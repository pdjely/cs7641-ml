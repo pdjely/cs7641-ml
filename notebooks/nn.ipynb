{
 "cells": [
  {
   "cell_type": "code",
   "execution_count": null,
   "metadata": {},
   "outputs": [],
   "source": [
    "import numpy as np\n",
    "import matplotlib.pyplot as plt\n",
    "import sys\n",
    "sys.path.extend(['/home/paul/code/omscs/cs7641/src'])\n",
    "import util\n",
    "import pandas as pd\n",
    "\n",
    "%matplotlib inline\n",
    "\n",
    "dirpath = '../src/output/nn'"
   ]
  },
  {
   "cell_type": "code",
   "execution_count": null,
   "metadata": {},
   "outputs": [],
   "source": [
    "ga_curve = pd.read_csv('{}/genetic_alg-curve.csv'.format(dirpath))\n",
    "sa_curve = pd.read_csv('{}/random_hill_climb-curve.csv'.format(dirpath))\n",
    "rhc_curve = pd.read_csv('{}/simulated_annealing-curve.csv'.format(dirpath))\n"
   ]
  },
  {
   "cell_type": "code",
   "execution_count": null,
   "metadata": {},
   "outputs": [],
   "source": [
    "train_time = {'SA': 11461.81074000476, \n",
    "              'RHC': 8290.981447245926, \n",
    "              'GA': 10273.253178324085}\n",
    "plt.bar(train_time.keys(), list(train_time.values()), align='center')\n",
    "plt.xlabel('Optimizer')\n",
    "plt.ylabel('Training Time (s)')"
   ]
  },
  {
   "cell_type": "code",
   "execution_count": null,
   "metadata": {},
   "outputs": [],
   "source": [
    "# Plot fitness per iteration\n",
    "\n",
    "curves = [rhc_curve, sa_curve, ga_curve]\n",
    "print(curves[0])\n",
    "for i, aname in enumerate(['RHC', 'SA', 'GA']):\n",
    "    plt.plot(curves[i].iloc[:, 0], curves[i].iloc[:, 1], label=aname)\n",
    "plt.title('Fitness Per Iteration')\n",
    "plt.xscale('symlog')\n",
    "plt.legend()"
   ]
  },
  {
   "cell_type": "code",
   "execution_count": null,
   "metadata": {},
   "outputs": [],
   "source": [
    "scores = {'SA': 11461.81074000476, \n",
    "          'RHC': 8290.981447245926, \n",
    "          'GA': 10273.253178324085}\n",
    "plt.bar(train_time.keys(), list(train_time.values()), align='center')\n",
    "plt.xlabel('Optimizer')\n",
    "plt.ylabel('Training Time (s)')"
   ]
  }
 ],
 "metadata": {
  "kernelspec": {
   "display_name": "Python 3",
   "language": "python",
   "name": "python3"
  },
  "language_info": {
   "codemirror_mode": {
    "name": "ipython",
    "version": 3
   },
   "file_extension": ".py",
   "mimetype": "text/x-python",
   "name": "python",
   "nbconvert_exporter": "python",
   "pygments_lexer": "ipython3",
   "version": "3.7.4"
  }
 },
 "nbformat": 4,
 "nbformat_minor": 2
}
