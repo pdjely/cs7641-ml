{
 "cells": [
  {
   "cell_type": "code",
   "execution_count": null,
   "metadata": {
    "pycharm": {
     "is_executing": false
    }
   },
   "outputs": [],
   "source": [
    "import pandas as pd\n",
    "import matplotlib.pyplot as plt\n",
    "import seaborn as sn\n",
    "import numpy as np\n",
    "import mlrose\n",
    "\n",
    "%matplotlib inline\n",
    "\n",
    "algo_names = ['rhc', 'mimic', 'sa', 'ga']\n",
    "# Algorithm hyperparameters:  \n",
    "hp = {'rhc': {'restarts': 0, 'max_attempts': 500}, \n",
    "      'mimic': {'pop_size': 3000, 'keep_pct': 0.15, \n",
    "                'max_attempts': 100, 'fast_mimic': True}, \n",
    "      'sa': {'schedule': mlrose.GeomDecay(), 'init_state': None, 'max_attempts': 500}, \n",
    "      'ga': {'pop_size': 2000, 'mutation_prob': 0.3, 'max_attempts': 500}}"
   ]
  },
  {
   "cell_type": "code",
   "execution_count": null,
   "metadata": {
    "pycharm": {
     "is_executing": false
    }
   },
   "outputs": [],
   "source": [
    "# load four peaks, 30 inputs saved data\n",
    "fp30 = pd.read_csv('../src/output/tsp_full/tsp_ps5.csv')\n",
    "fp30.tail(5)"
   ]
  },
  {
   "cell_type": "code",
   "execution_count": null,
   "metadata": {
    "pycharm": {
     "is_executing": false
    }
   },
   "outputs": [],
   "source": [
    "# Plot fitness by number of iterations\n",
    "ax30 = plt.gca()\n",
    "[fp30.plot(kind='line', x='iter', y=col, ax=ax30) for col in algo_names]\n",
    "ax30.set(ylabel='fitness', xlim=(0,500), title='TSP (t), Fitness per Iteration')"
   ]
  },
  {
   "cell_type": "code",
   "execution_count": null,
   "metadata": {
    "pycharm": {
     "is_executing": false
    }
   },
   "outputs": [],
   "source": [
    "# four peaks, 90 inputs, 5000 iterations, 500 early stop, 100 mimic early stop\n",
    "fp90 = pd.read_csv('../src/output/tsp_full/tsp_ps10.csv')\n",
    "print(fp90.tail())\n",
    "ax90 = fp90.iloc[:,1:].plot.line()\n",
    "ax90.set(title='TSP (10), Fitness by Iteration', xlabel='Iter', ylabel='Fitness', xscale='symlog')"
   ]
  },
  {
   "cell_type": "code",
   "execution_count": null,
   "metadata": {
    "pycharm": {
     "is_executing": false
    }
   },
   "outputs": [],
   "source": [
    "# four peaks, 90 inputs, 5000 iterations, 500 early stop, 100 mimic early stop\n",
    "fp200 = pd.read_csv('../src/output/tsp_full/tsp_ps30.csv')\n",
    "print(fp200.tail())\n",
    "ax200 = fp200.iloc[:,1:].plot.line()\n",
    "ax200.set(xscale='symlog', xlabel='iterations (log scale)', ylabel='fitness')"
   ]
  },
  {
   "cell_type": "code",
   "execution_count": null,
   "metadata": {
    "pycharm": {
     "is_executing": false
    }
   },
   "outputs": [],
   "source": [
    "fig, ax = plt.subplots(3, 1, figsize=(5, 10))\n",
    "fig.subplots_adjust(hspace=0.3)\n",
    "\n",
    "fp30.iloc[:,1:].plot(ax=ax[0])\n",
    "fp90.iloc[:,1:].plot(ax=ax[1])\n",
    "fp200.iloc[:,1:].plot(ax=ax[2])\n",
    "ax[2].set_xlabel('iterations (log)')\n",
    "ax[1].set_ylabel('fitness (negated distance)')\n",
    "ax[0].set_title('5 Inputs')\n",
    "ax[1].set_title('10 Inputs')\n",
    "ax[2].set_title('30 Inputs')\n",
    "for i in range(3):\n",
    "    ax[i].set(xscale='symlog')"
   ]
  },
  {
   "cell_type": "code",
   "execution_count": null,
   "metadata": {
    "pycharm": {
     "is_executing": false
    }
   },
   "outputs": [],
   "source": [
    "# Plot Fitness by Time\n",
    "times = [pd.read_csv('../src/output/tsp_full/tsp_ps30_{}_timings.csv'.format(a)) for a in algo_names]\n",
    "times90 = [pd.read_csv('../src/output/tsp_full/tsp_ps10_{}_timings.csv'.format(a)) for a in algo_names]\n",
    "times30 = [pd.read_csv('../src/output/tsp_full/tsp_ps5_{}_timings.csv'.format(a)) for a in algo_names]\n",
    "fig, ax = plt.subplots(3, 1, figsize=(5, 10))\n",
    "fig.subplots_adjust(hspace=0.3)\n",
    "\n",
    "# 30\n",
    "for i, aname in enumerate(algo_names):\n",
    "    ax[0].plot(times30[i].iloc[:, 1], times30[i].iloc[:, 2], label=aname)\n",
    "    ax[0].set(xscale='symlog', title='5 Inputs')\n",
    "    ax[0].legend()\n",
    "\n",
    "# 90\n",
    "for i, aname in enumerate(algo_names):\n",
    "    ax[1].plot(times90[i].iloc[:, 1], times90[i].iloc[:, 2], label=aname)\n",
    "    ax[1].set(xscale='symlog', ylabel='fitness (negated distance)', title='10 Inputs')\n",
    "    ax[1].legend()\n",
    "\n",
    "# 200\n",
    "for i, aname in enumerate(algo_names):\n",
    "    ax[2].plot(times[i].iloc[:, 1], times[i].iloc[:, 2], label=aname)\n",
    "    ax[2].set(xlabel='seconds (log)', xscale='symlog', title='30 Inputs')\n",
    "    ax[2].legend()"
   ]
  },
  {
   "cell_type": "code",
   "execution_count": null,
   "metadata": {
    "pycharm": {
     "is_executing": false
    }
   },
   "outputs": [],
   "source": []
  }
 ],
 "metadata": {
  "kernelspec": {
   "display_name": "Python 3",
   "language": "python",
   "name": "python3"
  },
  "language_info": {
   "codemirror_mode": {
    "name": "ipython",
    "version": 3
   },
   "file_extension": ".py",
   "mimetype": "text/x-python",
   "name": "python",
   "nbconvert_exporter": "python",
   "pygments_lexer": "ipython3",
   "version": "3.7.4"
  }
 },
 "nbformat": 4,
 "nbformat_minor": 1
}
